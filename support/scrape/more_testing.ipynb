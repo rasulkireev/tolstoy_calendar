{
 "cells": [
  {
   "cell_type": "code",
   "execution_count": 4,
   "metadata": {},
   "outputs": [],
   "source": [
    "import pandas as pd\n",
    "import datetime as dt\n",
    "import dateparser as dp"
   ]
  },
  {
   "cell_type": "code",
   "execution_count": null,
   "metadata": {},
   "outputs": [],
   "source": []
  },
  {
   "cell_type": "code",
   "execution_count": 20,
   "metadata": {},
   "outputs": [],
   "source": [
    "df = pd.read_csv('tolstoy-calendar.csv')\n",
    "\n",
    "today = dt.datetime.today()\n",
    "month = today.month\n",
    "day = today.day\n",
    "\n",
    "row = df[ (df['month']==month) & (df['day'] == day) ]\n",
    "message = row['text']\n",
    "author = row['author']\n"
   ]
  },
  {
   "cell_type": "code",
   "execution_count": 35,
   "metadata": {},
   "outputs": [
    {
     "data": {
      "text/plain": [
       "[\"['Краткость жизни ни для одного разумного человека не может быть основанием для того, чтобы бесполезно тратить ту долю ее, которая ему дана. Ни дни наши, ни жизни не могут быть благородны и святы, если мы проводим их ничего не делая. Лучшая утренняя молитва та, в которой мы просим, чтобы ни одно мгновение этого дня не прошло бесполезно, и лучшая благодарность перед обедом заключается в сознании, что мы честно заслужили нашу пищу.']\"]"
      ]
     },
     "execution_count": 35,
     "metadata": {},
     "output_type": "execute_result"
    }
   ],
   "source": [
    "message.to_list()"
   ]
  },
  {
   "cell_type": "code",
   "execution_count": 41,
   "metadata": {},
   "outputs": [
    {
     "data": {
      "text/plain": [
       "46    Эпиктет\n",
       "Name: author, dtype: object"
      ]
     },
     "execution_count": 41,
     "metadata": {},
     "output_type": "execute_result"
    }
   ],
   "source": [
    "author"
   ]
  },
  {
   "cell_type": "code",
   "execution_count": 49,
   "metadata": {},
   "outputs": [],
   "source": [
    "df = pd.read_csv('tolstoy-calendar-no-author.csv')\n",
    "\n",
    "today = dt.datetime.today()\n",
    "month = today.month\n",
    "day = today.day\n",
    "\n",
    "row = df[ (df['month']==2) & (df['day'] == 16) ]\n",
    "message = row['text']\n"
   ]
  },
  {
   "cell_type": "code",
   "execution_count": 51,
   "metadata": {},
   "outputs": [
    {
     "data": {
      "text/plain": [
       "[\"['Будь правдив, не служи гневу; давай просящему, — ведь он просит тебя о немногом; к святым приблизишься ты, шествуя этими тремя путями.', 'Dhammapada.', 'Когда ты бранишь человека и враждуешь с ним, ты забываешь, что люди — твои братья, и ты делаешься им врагом, вместо того чтобы быть их другом. Этим ты сам себе вредишь, потому что, когда ты перестал быть добрым и общительным существом, каким тебя бог создал, и вместо того стал диким зверем, который подкрадывается, раздирает и губит свою жертву, — тогда ты потерял самую дорогую свою собственность. Ты чувствуешь потерю кошелька с деньгами, почему же ты не чувствуешь своего убытка, когда ты потерял свою честность, доброту и умеренность?', 'Эпиктет.']\"]"
      ]
     },
     "execution_count": 51,
     "metadata": {},
     "output_type": "execute_result"
    }
   ],
   "source": [
    "message.to_list()"
   ]
  },
  {
   "cell_type": "code",
   "execution_count": 7,
   "metadata": {},
   "outputs": [
    {
     "data": {
      "text/plain": [
       "[\"['Краткость жизни ни для одного разумного человека не может быть основанием для того, чтобы бесполезно тратить ту долю ее, которая ему дана. Ни дни наши, ни жизни не могут быть благородны и святы, если мы проводим их ничего не делая. Лучшая утренняя молитва та, в которой мы просим, чтобы ни одно мгновение этого дня не прошло бесполезно, и лучшая благодарность перед обедом заключается в сознании, что мы честно заслужили нашу пищу.', 'Джон Рёскин.']\"]"
      ]
     },
     "execution_count": 7,
     "metadata": {},
     "output_type": "execute_result"
    }
   ],
   "source": [
    "df = pd.read_csv('tolstoy-calendar-no-author.csv')\n",
    "\n",
    "today = dt.datetime.today()\n",
    "month = today.month\n",
    "day = today.day\n",
    "\n",
    "row = df[(df['month']== month) & (df['day'] == day)]\n",
    "message = row['text'].to_list()\n",
    "\n",
    "message"
   ]
  },
  {
   "cell_type": "code",
   "execution_count": 8,
   "metadata": {},
   "outputs": [
    {
     "name": "stdout",
     "output_type": "stream",
     "text": [
      "['Краткость жизни ни для одного разумного человека не может быть основанием для того, чтобы бесполезно тратить ту долю ее, которая ему дана. Ни дни наши, ни жизни не могут быть благородны и святы, если мы проводим их ничего не делая. Лучшая утренняя молитва та, в которой мы просим, чтобы ни одно мгновение этого дня не прошло бесполезно, и лучшая благодарность перед обедом заключается в сознании, что мы честно заслужили нашу пищу.', 'Джон Рёскин.']\n"
     ]
    }
   ],
   "source": [
    "for p in message:\n",
    "    print(p)"
   ]
  },
  {
   "cell_type": "code",
   "execution_count": null,
   "metadata": {},
   "outputs": [],
   "source": []
  }
 ],
 "metadata": {
  "kernelspec": {
   "display_name": "scrape_and_django",
   "language": "python",
   "name": "scrape_and_django"
  },
  "language_info": {
   "codemirror_mode": {
    "name": "ipython",
    "version": 3
   },
   "file_extension": ".py",
   "mimetype": "text/x-python",
   "name": "python",
   "nbconvert_exporter": "python",
   "pygments_lexer": "ipython3",
   "version": "3.7.6"
  }
 },
 "nbformat": 4,
 "nbformat_minor": 4
}
