{
 "cells": [
  {
   "cell_type": "code",
   "execution_count": 3,
   "metadata": {},
   "outputs": [],
   "source": [
    "import httpx\n",
    "from bs4 import BeautifulSoup"
   ]
  },
  {
   "cell_type": "code",
   "execution_count": 4,
   "metadata": {},
   "outputs": [],
   "source": [
    "url = \"http://tolstoy.ru/online/online-publicism/mysli-mudryh-ludey-na-kazhdiy-den/\"\n",
    "\n",
    "r = httpx.get(url)"
   ]
  },
  {
   "cell_type": "code",
   "execution_count": 5,
   "metadata": {},
   "outputs": [],
   "source": [
    "soup = BeautifulSoup(r, 'html.parser')"
   ]
  },
  {
   "cell_type": "code",
   "execution_count": 6,
   "metadata": {},
   "outputs": [],
   "source": [
    "month_ids = []\n",
    "for i in range(4,16):\n",
    "    string = \"top_\" + str(i)\n",
    "    month_ids.append(string)\n"
   ]
  },
  {
   "cell_type": "code",
   "execution_count": 7,
   "metadata": {},
   "outputs": [],
   "source": [
    "data = []\n",
    "day_dict = {}\n",
    "\n",
    "for month_id in month_ids:\n",
    "    month_block = soup.find(id=month_id)\n",
    "    month_name = month_block.find('h2').string\n",
    "    \n",
    "    days = []\n",
    "    for i in month_block.find_all(class_=\"subtitle\"):\n",
    "        try:\n",
    "            day = i.string.strip()\n",
    "        except:\n",
    "            day = i.span.string.strip()\n",
    "\n",
    "        day_dict['month'] = month_name.title() \n",
    "        day_dict['day'] = day\n",
    "        \n",
    "        text = []\n",
    "        s = i\n",
    "        while True:\n",
    "            s = s.find_next_sibling()\n",
    "            if s and 'right' in s.attrs.get(\"class\", []):\n",
    "                try:\n",
    "                    day_dict['author'] = s.string.strip()\n",
    "                except:\n",
    "                    break\n",
    "            elif s and \"subtitle\" not in s.attrs.get(\"class\", []):\n",
    "                try:\n",
    "                    text.append(s.string.strip())\n",
    "                except:\n",
    "                    continue\n",
    "            else:\n",
    "                break\n",
    "                \n",
    "        day_dict['text'] = text\n",
    "        \n",
    "        data.append(day_dict.copy())\n",
    "        \n",
    "    \n"
   ]
  },
  {
   "cell_type": "code",
   "execution_count": 41,
   "metadata": {},
   "outputs": [],
   "source": [
    "import json\n",
    "\n",
    "with open('test.json','w',encoding='ascii') as f:\n",
    "    json.dump(data,f)"
   ]
  },
  {
   "cell_type": "code",
   "execution_count": 42,
   "metadata": {},
   "outputs": [],
   "source": [
    "# Reading it directly\n",
    "# with open('test.json') as f:\n",
    "#     print(f.read())"
   ]
  },
  {
   "cell_type": "code",
   "execution_count": 9,
   "metadata": {},
   "outputs": [],
   "source": [
    "import json\n",
    "\n",
    "# Reading with the json module\n",
    "with open('tolstoy-calendar-test.json',encoding='ascii') as f:\n",
    "    data = json.load(f)\n"
   ]
  },
  {
   "cell_type": "code",
   "execution_count": null,
   "metadata": {},
   "outputs": [
    {
     "name": "stdout",
     "output_type": "stream",
     "text": [
      "Collecting dateparser\n",
      "  Downloading dateparser-0.7.2-py2.py3-none-any.whl (352 kB)\n",
      "\u001b[K     |████████████████████████████████| 352 kB 2.9 MB/s eta 0:00:01\n",
      "\u001b[?25hRequirement already satisfied: python-dateutil in /Users/rasulkireev/Sites/tolstoy_calendar/venv/lib/python3.7/site-packages (from dateparser) (2.8.1)\n",
      "Collecting regex\n",
      "  Downloading regex-2020.1.8.tar.gz (681 kB)\n",
      "\u001b[K     |████████████████████████████████| 681 kB 6.2 MB/s eta 0:00:0101\n",
      "\u001b[?25hCollecting tzlocal\n",
      "  Downloading tzlocal-2.0.0-py2.py3-none-any.whl (15 kB)\n",
      "Requirement already satisfied: pytz in /Users/rasulkireev/Sites/tolstoy_calendar/venv/lib/python3.7/site-packages (from dateparser) (2019.3)\n",
      "Requirement already satisfied: six>=1.5 in /Users/rasulkireev/Sites/tolstoy_calendar/venv/lib/python3.7/site-packages (from python-dateutil->dateparser) (1.14.0)\n",
      "Installing collected packages: regex, tzlocal, dateparser\n",
      "    Running setup.py install for regex ... \u001b[?25l-"
     ]
    }
   ],
   "source": [
    "!pip install dateparser"
   ]
  },
  {
   "cell_type": "code",
   "execution_count": 19,
   "metadata": {},
   "outputs": [
    {
     "ename": "ModuleNotFoundError",
     "evalue": "No module named 'dateparser'",
     "output_type": "error",
     "traceback": [
      "\u001b[0;31m---------------------------------------------------------------------------\u001b[0m",
      "\u001b[0;31mModuleNotFoundError\u001b[0m                       Traceback (most recent call last)",
      "\u001b[0;32m<ipython-input-19-c2b00b0527cd>\u001b[0m in \u001b[0;36m<module>\u001b[0;34m\u001b[0m\n\u001b[0;32m----> 1\u001b[0;31m \u001b[0;32mimport\u001b[0m \u001b[0mdateparser\u001b[0m\u001b[0;34m\u001b[0m\u001b[0;34m\u001b[0m\u001b[0m\n\u001b[0m\u001b[1;32m      2\u001b[0m \u001b[0;34m\u001b[0m\u001b[0m\n\u001b[1;32m      3\u001b[0m \u001b[0mdata\u001b[0m\u001b[0;34m[\u001b[0m\u001b[0;36m0\u001b[0m\u001b[0;34m]\u001b[0m\u001b[0;34m[\u001b[0m\u001b[0;34m\"month\"\u001b[0m\u001b[0;34m]\u001b[0m \u001b[0;34m+\u001b[0m \u001b[0mdata\u001b[0m\u001b[0;34m[\u001b[0m\u001b[0;36m0\u001b[0m\u001b[0;34m]\u001b[0m\u001b[0;34m[\u001b[0m\u001b[0;34m\"day\"\u001b[0m\u001b[0;34m]\u001b[0m\u001b[0;34m\u001b[0m\u001b[0;34m\u001b[0m\u001b[0m\n",
      "\u001b[0;31mModuleNotFoundError\u001b[0m: No module named 'dateparser'"
     ]
    }
   ],
   "source": [
    "import dateparser\n",
    "\n",
    "data[0][\"month\"] + data[0][\"day\"]"
   ]
  },
  {
   "cell_type": "code",
   "execution_count": null,
   "metadata": {},
   "outputs": [],
   "source": []
  }
 ],
 "metadata": {
  "kernelspec": {
   "display_name": "scrape_and_django",
   "language": "python",
   "name": "scrape_and_django"
  },
  "language_info": {
   "codemirror_mode": {
    "name": "ipython",
    "version": 3
   },
   "file_extension": ".py",
   "mimetype": "text/x-python",
   "name": "python",
   "nbconvert_exporter": "python",
   "pygments_lexer": "ipython3",
   "version": "3.7.6"
  }
 },
 "nbformat": 4,
 "nbformat_minor": 4
}
